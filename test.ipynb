{
 "cells": [
  {
   "cell_type": "code",
   "execution_count": 1,
   "metadata": {},
   "outputs": [],
   "source": [
    "from constants import (\n",
    "    HOST,\n",
    "    ETHEREUM_ADDRESS,\n",
    "    DYDX_API_KEY,\n",
    "    DYDX_API_SECRET,\n",
    "    DYDX_API_PASSPHRASE,\n",
    "    STARK_PRIVATE_KEY,\n",
    "    HTTP_PROVIDER\n",
    ")\n"
   ]
  },
  {
   "cell_type": "code",
   "execution_count": 4,
   "metadata": {},
   "outputs": [],
   "source": [
    "from web3 import Web3\n",
    "from decouple import config\n",
    "from dydx3 import Client\n",
    "client = Client(\n",
    "    host=HOST,\n",
    "    api_key_credentials={\n",
    "        \"key\": DYDX_API_KEY,\n",
    "        \"secret\": DYDX_API_SECRET,\n",
    "        \"passphrase\": DYDX_API_PASSPHRASE,\n",
    "    },\n",
    "    stark_private_key=STARK_PRIVATE_KEY,\n",
    "    eth_private_key=config(\"ETH_PRIVATE_KEY\"),\n",
    "    default_ethereum_address=ETHEREUM_ADDRESS,\n",
    "    web3=Web3(Web3.HTTPProvider(HTTP_PROVIDER))\n",
    "    )"
   ]
  },
  {
   "cell_type": "code",
   "execution_count": 5,
   "metadata": {},
   "outputs": [],
   "source": [
    "closed_position_m1 = client.private.get_positions(\n",
    "                    market=\"UNI-USD\",\n",
    "                    status=\"CLOSED\",\n",
    "                    limit=1\n",
    "                    ) "
   ]
  },
  {
   "cell_type": "code",
   "execution_count": 11,
   "metadata": {},
   "outputs": [
    {
     "data": {
      "text/plain": [
       "{'market': 'UNI-USD',\n",
       " 'status': 'CLOSED',\n",
       " 'side': 'SHORT',\n",
       " 'size': '0',\n",
       " 'maxSize': '-7.6',\n",
       " 'entryPrice': '6.565000',\n",
       " 'exitPrice': '6.579000',\n",
       " 'unrealizedPnl': '0.000000',\n",
       " 'realizedPnl': '-0.106400',\n",
       " 'createdAt': '2024-02-09T13:16:12.336Z',\n",
       " 'closedAt': '2024-02-09T13:17:03.801Z',\n",
       " 'sumOpen': '7.6',\n",
       " 'sumClose': '7.6',\n",
       " 'netFunding': '0'}"
      ]
     },
     "execution_count": 11,
     "metadata": {},
     "output_type": "execute_result"
    }
   ],
   "source": [
    "closed_position_m1.data['positions'][0]"
   ]
  },
  {
   "cell_type": "code",
   "execution_count": 12,
   "metadata": {},
   "outputs": [
    {
     "data": {
      "text/plain": [
       "'UNI-USD'"
      ]
     },
     "execution_count": 12,
     "metadata": {},
     "output_type": "execute_result"
    }
   ],
   "source": [
    "closed_position_m1.data['positions'][0]['market']"
   ]
  },
  {
   "cell_type": "code",
   "execution_count": 13,
   "metadata": {},
   "outputs": [
    {
     "data": {
      "text/plain": [
       "'-0.106400'"
      ]
     },
     "execution_count": 13,
     "metadata": {},
     "output_type": "execute_result"
    }
   ],
   "source": [
    "closed_position_m1.data['positions'][0]['realizedPnl']"
   ]
  },
  {
   "cell_type": "code",
   "execution_count": null,
   "metadata": {},
   "outputs": [],
   "source": []
  }
 ],
 "metadata": {
  "kernelspec": {
   "display_name": "dydxV3",
   "language": "python",
   "name": "python3"
  },
  "language_info": {
   "codemirror_mode": {
    "name": "ipython",
    "version": 3
   },
   "file_extension": ".py",
   "mimetype": "text/x-python",
   "name": "python",
   "nbconvert_exporter": "python",
   "pygments_lexer": "ipython3",
   "version": "3.9.18"
  }
 },
 "nbformat": 4,
 "nbformat_minor": 2
}
